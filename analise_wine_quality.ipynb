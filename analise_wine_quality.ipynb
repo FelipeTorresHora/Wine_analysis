{
 "cells": [
  {
   "cell_type": "code",
   "execution_count": null,
   "metadata": {},
   "outputs": [],
   "source": [
    "import pandas as pd\n",
    "import seaborn as sns\n",
    "import matplotlib.pyplot as plt"
   ]
  },
  {
   "cell_type": "code",
   "execution_count": null,
   "metadata": {},
   "outputs": [],
   "source": [
    "# Carregar os dados e removendo duplicatas\n",
    "df = pd.read_csv('winequality-red.csv')"
   ]
  },
  {
   "cell_type": "code",
   "execution_count": null,
   "metadata": {},
   "outputs": [],
   "source": [
    "# Verificar informações gerais do dataset\n",
    "print(\"\\nInformações gerais do dataset:\")\n",
    "print(df.info())\n",
    "\n",
    "# Estatísticas descritivas\n",
    "print(\"\\nEstatísticas descritivas:\")\n",
    "print(df.describe())"
   ]
  },
  {
   "cell_type": "markdown",
   "metadata": {},
   "source": [
    "Correlação de Variáveis"
   ]
  },
  {
   "cell_type": "code",
   "execution_count": null,
   "metadata": {},
   "outputs": [],
   "source": [
    "# Para dados numéricos é utilizado o metodo de correlação de Pearson\n",
    "correlation_matrix = df.corr(method=\"pearson\")\n",
    "# Visualizar a matriz de correlação com um heatmap\n",
    "plt.figure(figsize=(12, 8))\n",
    "sns.heatmap(correlation_matrix, annot=True, cmap=\"coolwarm\", fmt=\".2f\", linewidths=0.5)\n",
    "plt.title(\"Mapa de Calor das Correlações\")\n",
    "plt.show()"
   ]
  },
  {
   "cell_type": "code",
   "execution_count": null,
   "metadata": {},
   "outputs": [],
   "source": [
    "# Identificar as variáveis mais correlacionadas com a qualidade\n",
    "correlation_with_quality = correlation_matrix[\"quality\"].sort_values(ascending=False)\n",
    "print(\"\\nCorrelação com a variável 'quality':\")\n",
    "print(correlation_with_quality)"
   ]
  },
  {
   "cell_type": "code",
   "execution_count": null,
   "metadata": {},
   "outputs": [],
   "source": [
    "# Histograma da qualidade\n",
    "plt.figure(figsize=(8, 6))\n",
    "sns.histplot(df['quality'], bins=range(3, 10), kde=False)\n",
    "plt.title('Distribuição das Pontuações de Qualidade')\n",
    "plt.xlabel('Qualidade')\n",
    "plt.ylabel('Contagem')\n",
    "plt.show()"
   ]
  },
  {
   "cell_type": "code",
   "execution_count": null,
   "metadata": {},
   "outputs": [],
   "source": [
    "# Box plot de álcool vs. qualidade\n",
    "plt.figure(figsize=(8, 6))\n",
    "sns.boxplot(x='quality', y='alcohol', data=df)\n",
    "plt.title('Relação entre Álcool e Qualidade')\n",
    "plt.xlabel('Qualidade')\n",
    "plt.ylabel('Álcool (% em volume)')\n",
    "plt.show()"
   ]
  },
  {
   "cell_type": "code",
   "execution_count": null,
   "metadata": {},
   "outputs": [],
   "source": [
    "# Box plot de acidez volátil vs. qualidade\n",
    "plt.figure(figsize=(8, 6))\n",
    "sns.boxplot(x='quality', y='volatile acidity', data=df)\n",
    "plt.title('Relação entre Acidez Volátil e Qualidade')\n",
    "plt.xlabel('Qualidade')\n",
    "plt.ylabel('Acidez Volátil (g/L)')\n",
    "plt.show()"
   ]
  },
  {
   "cell_type": "code",
   "execution_count": null,
   "metadata": {},
   "outputs": [],
   "source": [
    "# Scatter plot de álcool vs. acidez volátil, colorido por qualidade\n",
    "plt.figure(figsize=(10, 6))\n",
    "sns.scatterplot(x='alcohol', y='volatile acidity', hue='quality', size='quality', data=df, palette='viridis')\n",
    "plt.title('Álcool vs. Acidez Volátil por Qualidade')\n",
    "plt.xlabel('Álcool (% em volume)')\n",
    "plt.ylabel('Acidez Volátil (g/L)')\n",
    "plt.show()"
   ]
  }
 ],
 "metadata": {
  "kernelspec": {
   "display_name": "Python 3",
   "language": "python",
   "name": "python3"
  },
  "language_info": {
   "codemirror_mode": {
    "name": "ipython",
    "version": 3
   },
   "file_extension": ".py",
   "mimetype": "text/x-python",
   "name": "python",
   "nbconvert_exporter": "python",
   "pygments_lexer": "ipython3",
   "version": "3.11.9"
  }
 },
 "nbformat": 4,
 "nbformat_minor": 2
}
