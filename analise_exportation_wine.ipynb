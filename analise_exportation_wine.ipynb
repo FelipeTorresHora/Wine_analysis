{
 "cells": [
  {
   "cell_type": "code",
   "execution_count": null,
   "metadata": {},
   "outputs": [],
   "source": [
    "import pandas as pd\n",
    "import seaborn as sns\n",
    "import matplotlib.pyplot as plt"
   ]
  },
  {
   "cell_type": "code",
   "execution_count": null,
   "metadata": {},
   "outputs": [],
   "source": [
    "exp_espumante = pd.read_csv('exportacao_espumante_ready.csv')\n",
    "exp_vinho = pd.read_csv('exportacao_vinho_ready.csv')\n",
    "prod_vinho = pd.read_csv('producao_ready.csv')"
   ]
  },
  {
   "cell_type": "code",
   "execution_count": null,
   "metadata": {},
   "outputs": [],
   "source": [
    "# Verificar informações gerais do dataset\n",
    "print(\"\\nInformações gerais do dataset:\")\n",
    "print(prod_vinho.info())"
   ]
  },
  {
   "cell_type": "code",
   "execution_count": null,
   "metadata": {},
   "outputs": [],
   "source": [
    "# Agrupar por ano e somar as quantidades\n",
    "exp_vinho = exp_vinho.groupby('ano').agg({\n",
    "    'quantidade_kg': 'sum',\n",
    "    'quantidade_dolar': 'sum'\n",
    "}).reset_index()\n",
    "exp_espumante = exp_espumante.groupby('ano').agg({\n",
    "    'quantidade_kg': 'sum',\n",
    "    'quantidade_dolar': 'sum'\n",
    "}).reset_index()\n",
    "exp_espumante.tail()"
   ]
  },
  {
   "cell_type": "code",
   "execution_count": null,
   "metadata": {},
   "outputs": [],
   "source": [
    "# Gráfico de linha: Evolução da produção de vinho ao longo dos anos\n",
    "plt.figure()\n",
    "sns.lineplot(data=exp_espumante, x=\"ano\", y=\"quantidade_dolar\", marker=\"o\")\n",
    "plt.title(\"Evolução da Produção de Vinho ao Longo dos Anos\")\n",
    "plt.xlabel(\"Ano\")\n",
    "plt.ylabel(\"Quantidade (litros)\")\n",
    "plt.legend(title=\"Tipo de Vinho\")\n",
    "plt.show()\n"
   ]
  },
  {
   "cell_type": "code",
   "execution_count": null,
   "metadata": {},
   "outputs": [],
   "source": [
    "# Gráfico dos 10 anos com maiores exportações em kg\n",
    "top_kg = exp_vinho.sort_values('quantidade_kg', ascending=False).head(10)\n",
    "plt.figure(figsize=(12, 6))\n",
    "plt.bar(top_kg['ano'].astype(str), top_kg['quantidade_kg']/1e6, color='darkred')\n",
    "plt.title('Top 10 Anos com Maiores Exportações em Quantidade (kg)')\n",
    "plt.xlabel('Ano')\n",
    "plt.ylabel('Quantidade (milhões de kg)')\n",
    "plt.xticks(rotation=45)\n",
    "plt.tight_layout()\n",
    "plt.show()"
   ]
  },
  {
   "cell_type": "code",
   "execution_count": null,
   "metadata": {},
   "outputs": [],
   "source": [
    "# Gráfico de linha: Produção e exportação de vinho ao longo dos anos\n",
    "plt.figure(figsize=(10, 5))\n",
    "\n",
    "# Linha para quantidade produzida\n",
    "plt.plot(prod_vinho[\"ano\"], prod_vinho[\"quantidade_litros\"], \n",
    "         color=\"royalblue\", label=\"Quantidade (litros)\", linewidth=2)\n",
    "\n",
    "# Linha para valor em dólar (usando eixo secundário)\n",
    "plt.twinx()\n",
    "plt.plot(exp_vinho[\"ano\"], exp_vinho[\"quantidade_dolar\"], \n",
    "         color=\"crimson\", label=\"Valor (USD)\", linewidth=2)\n",
    "\n",
    "# Ajustes visuais\n",
    "plt.title(\"Produção vs Valor (1970-2023)\", pad=20)\n",
    "plt.xlabel(\"Ano\")\n",
    "\n",
    "# Legendas\n",
    "lines, labels = plt.gca().get_legend_handles_labels()\n",
    "lines2, labels2 = plt.gca().get_legend_handles_labels()\n",
    "plt.legend(lines + lines2, labels + labels2, loc=\"upper left\")\n",
    "\n",
    "plt.grid(alpha=0.3)\n",
    "plt.tight_layout()\n",
    "plt.show()"
   ]
  },
  {
   "cell_type": "code",
   "execution_count": null,
   "metadata": {},
   "outputs": [],
   "source": [
    "# Gráfico de dispersão: Relação entre quantidade exportada e valor em dólares\n",
    "plt.figure()\n",
    "sns.scatterplot(data=exp_vinho, x=\"quantidade_kg\", y=\"quantidade_dolar\", alpha=0.7)\n",
    "plt.title(\"Relação entre Quantidade Exportada e Valor em Dólares\")\n",
    "plt.xlabel(\"Quantidade Exportada (kg)\")\n",
    "plt.ylabel(\"Valor (dólares)\")\n",
    "plt.show()"
   ]
  },
  {
   "cell_type": "code",
   "execution_count": null,
   "metadata": {},
   "outputs": [],
   "source": [
    "# Comparação de exportações: vinhos comuns vs. espumantes\n",
    "exp_vinho_por_ano = exp_vinho.groupby('ano')['quantidade_dolar'].sum().reset_index()\n",
    "plt.figure(figsize=(12, 6))\n",
    "sns.lineplot(x='ano', y='quantidade_kg', data=exp_espumante, label='Espumantes')\n",
    "sns.lineplot(x='ano', y='quantidade_kg', data=exp_vinho, label='Vinhos Comuns')\n",
    "plt.title('Comparação das Exportações: Espumantes vs. Vinhos Comuns (Valor em Dólares)')\n",
    "plt.xlabel('Ano')\n",
    "plt.ylabel('Valor Total (Dólares)')\n",
    "plt.legend()\n",
    "plt.show()"
   ]
  },
  {
   "cell_type": "code",
   "execution_count": null,
   "metadata": {},
   "outputs": [],
   "source": [
    "# Relacionando produção com exportação (exemplo com vinho de mesa)\n",
    "producao_vinho_mesa = prod_vinho[prod_vinho['control'] == 'vinho_de_mesa'].groupby('ano')['quantidade_litros'].sum().reset_index()\n",
    "plt.figure(figsize=(12, 6))\n",
    "sns.lineplot(x='ano', y='quantidade_litros', data=producao_vinho_mesa, label='Produção Vinho de Mesa (Litros)')\n",
    "sns.lineplot(x='ano', y='quantidade_dolar', data=exp_vinho, label='Exportação Vinhos Comuns (Dólares)')\n",
    "plt.title('Produção de Vinho de Mesa vs. Exportação de Vinhos Comuns')\n",
    "plt.xlabel('Ano')\n",
    "plt.ylabel('Valores')\n",
    "plt.legend()\n",
    "plt.show()"
   ]
  },
  {
   "cell_type": "code",
   "execution_count": null,
   "metadata": {},
   "outputs": [],
   "source": []
  },
  {
   "cell_type": "code",
   "execution_count": null,
   "metadata": {},
   "outputs": [],
   "source": []
  },
  {
   "cell_type": "code",
   "execution_count": null,
   "metadata": {},
   "outputs": [],
   "source": []
  }
 ],
 "metadata": {
  "kernelspec": {
   "display_name": "vinho (3.11.9)",
   "language": "python",
   "name": "python3"
  },
  "language_info": {
   "codemirror_mode": {
    "name": "ipython",
    "version": 3
   },
   "file_extension": ".py",
   "mimetype": "text/x-python",
   "name": "python",
   "nbconvert_exporter": "python",
   "pygments_lexer": "ipython3",
   "version": "3.11.9"
  }
 },
 "nbformat": 4,
 "nbformat_minor": 2
}
