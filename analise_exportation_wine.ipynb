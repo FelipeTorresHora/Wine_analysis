{
 "cells": [
  {
   "cell_type": "code",
   "execution_count": null,
   "metadata": {},
   "outputs": [],
   "source": [
    "import pandas as pd\n",
    "import seaborn as sns\n",
    "import matplotlib.pyplot as plt"
   ]
  },
  {
   "cell_type": "code",
   "execution_count": null,
   "metadata": {},
   "outputs": [],
   "source": [
    "# Carregar os dados\n",
    "file1 = \"exportacao_espumante_ready.csv\"\n",
    "exp_espumante = pd.read_csv(file1)\n",
    "file2 = \"exportacao_vinho_ready.csv\"\n",
    "exp_vinho = pd.read_csv(file2)\n",
    "file3 = \"producao_ready.csv\"\n",
    "prod_vinho = pd.read_csv(file3)"
   ]
  },
  {
   "cell_type": "code",
   "execution_count": null,
   "metadata": {},
   "outputs": [],
   "source": [
    "# Verificar informações gerais do dataset\n",
    "print(\"\\nInformações gerais do dataset:\")\n",
    "print(exp_vinho.info())"
   ]
  },
  {
   "cell_type": "code",
   "execution_count": null,
   "metadata": {},
   "outputs": [],
   "source": [
    "# 1. Gráfico de linha: Evolução da produção de vinho ao longo dos anos\n",
    "plt.figure()\n",
    "sns.lineplot(data=exp_espumante, x=\"ano\", y=\"quantidade_dolar\", marker=\"o\")\n",
    "plt.title(\"Evolução da Produção de Vinho ao Longo dos Anos\")\n",
    "plt.xlabel(\"Ano\")\n",
    "plt.ylabel(\"Quantidade (litros)\")\n",
    "plt.legend(title=\"Tipo de Vinho\")\n",
    "plt.show()\n"
   ]
  },
  {
   "cell_type": "code",
   "execution_count": null,
   "metadata": {},
   "outputs": [],
   "source": [
    "# 3. Gráfico de dispersão: Relação entre quantidade exportada e valor em dólares\n",
    "plt.figure()\n",
    "sns.scatterplot(data=exp_espumante, x=\"quantidade_kg\", y=\"quantidade_dolar\", alpha=0.7)\n",
    "plt.title(\"Relação entre Quantidade Exportada e Valor em Dólares\")\n",
    "plt.xlabel(\"Quantidade Exportada (kg)\")\n",
    "plt.ylabel(\"Valor (dólares)\")\n",
    "plt.show()"
   ]
  },
  {
   "cell_type": "code",
   "execution_count": null,
   "metadata": {},
   "outputs": [],
   "source": [
    "# Tabela cruzada de quantidade_dolar vs. quantidade_kg para espumantes\n",
    "crosstab_espumante = pd.crosstab(exp_espumante['quantidade_dolar'], exp_espumante['quantidade_kg'], margins=True)\n",
    "print(\"\\nTabela Cruzada de Exportações de Espumantes (Quantidade em Dólares vs. kg):\")\n",
    "print(crosstab_espumante)"
   ]
  },
  {
   "cell_type": "code",
   "execution_count": null,
   "metadata": {},
   "outputs": [],
   "source": [
    "# Comparação de exportações: vinhos comuns vs. espumantes\n",
    "exp_vinho_por_ano = exp_vinho.groupby('ano')['quantidade_dolar'].sum().reset_index()\n",
    "plt.figure(figsize=(12, 6))\n",
    "sns.lineplot(x='ano', y='quantidade_dolar', data=espumante_por_ano, label='Espumantes')\n",
    "sns.lineplot(x='ano', y='quantidade_dolar', data=exp_vinho_por_ano, label='Vinhos Comuns')\n",
    "plt.title('Comparação das Exportações: Espumantes vs. Vinhos Comuns (Valor em Dólares)')\n",
    "plt.xlabel('Ano')\n",
    "plt.ylabel('Valor Total (Dólares)')\n",
    "plt.legend()\n",
    "plt.show()"
   ]
  },
  {
   "cell_type": "code",
   "execution_count": null,
   "metadata": {},
   "outputs": [],
   "source": [
    "# Relacionando produção com exportação (exemplo com vinho de mesa)\n",
    "producao_vinho_mesa = producao[producao['control'] == 'vinho_de_mesa'].groupby('ano')['quantidade_litros'].sum().reset_index()\n",
    "plt.figure(figsize=(12, 6))\n",
    "sns.lineplot(x='ano', y='quantidade_litros', data=producao_vinho_mesa, label='Produção Vinho de Mesa (Litros)')\n",
    "sns.lineplot(x='ano', y='quantidade_dolar', data=exp_vinho_por_ano, label='Exportação Vinhos Comuns (Dólares)')\n",
    "plt.title('Produção de Vinho de Mesa vs. Exportação de Vinhos Comuns')\n",
    "plt.xlabel('Ano')\n",
    "plt.ylabel('Valores')\n",
    "plt.legend()\n",
    "plt.show()"
   ]
  },
  {
   "cell_type": "code",
   "execution_count": null,
   "metadata": {},
   "outputs": [],
   "source": []
  },
  {
   "cell_type": "code",
   "execution_count": null,
   "metadata": {},
   "outputs": [],
   "source": []
  },
  {
   "cell_type": "code",
   "execution_count": null,
   "metadata": {},
   "outputs": [],
   "source": []
  },
  {
   "cell_type": "code",
   "execution_count": null,
   "metadata": {},
   "outputs": [],
   "source": []
  }
 ],
 "metadata": {
  "kernelspec": {
   "display_name": "Python 3",
   "language": "python",
   "name": "python3"
  },
  "language_info": {
   "codemirror_mode": {
    "name": "ipython",
    "version": 3
   },
   "file_extension": ".py",
   "mimetype": "text/x-python",
   "name": "python",
   "nbconvert_exporter": "python",
   "pygments_lexer": "ipython3",
   "version": "3.11.9"
  }
 },
 "nbformat": 4,
 "nbformat_minor": 2
}
